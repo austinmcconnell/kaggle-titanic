{
 "cells": [
  {
   "cell_type": "code",
   "execution_count": 1,
   "metadata": {
    "collapsed": true
   },
   "outputs": [],
   "source": [
    "%matplotlib inline"
   ]
  },
  {
   "cell_type": "code",
   "execution_count": 2,
   "metadata": {
    "collapsed": true
   },
   "outputs": [],
   "source": [
    "import pandas as pd\n",
    "import numpy as np\n",
    "import re\n",
    "from sklearn.cross_validation import cross_val_score, cross_val_predict, KFold\n",
    "from sklearn.ensemble import RandomForestClassifier\n",
    "from sklearn.linear_model import LogisticRegression\n",
    "from sklearn.metrics import mean_squared_error\n",
    "from sklearn.feature_selection import SelectKBest, f_classif\n",
    "import matplotlib.pyplot as plt\n",
    "import seaborn as sns"
   ]
  },
  {
   "cell_type": "code",
   "execution_count": 3,
   "metadata": {
    "collapsed": true
   },
   "outputs": [],
   "source": [
    "sns.set_style('white')\n",
    "sns.set_context('talk')"
   ]
  },
  {
   "cell_type": "markdown",
   "metadata": {},
   "source": [
    "# Feature Engineering"
   ]
  },
  {
   "cell_type": "code",
   "execution_count": 4,
   "metadata": {
    "collapsed": false
   },
   "outputs": [],
   "source": [
    "def get_title(name):\n",
    "    # Use a regular expression to search for a title.  Titles always consist of capital and lowercase letters, and end with a period.\n",
    "    title_search = re.search(' ([A-Za-z]+)\\.', name)\n",
    "    # If the title exists, extract and return it.\n",
    "    if title_search:\n",
    "        return title_search.group(1)\n",
    "    return None\n",
    "\n",
    "def get_cabin_deck(cabin):\n",
    "    if cabin.isnan():\n",
    "        return None\n",
    "    deck_search = re.search(' ([A-Z])', cabin)\n",
    "    if deck_search:\n",
    "        return deck_search.group(1)\n",
    "    \n",
    "def get_cabin_number(cabin):\n",
    "    number_search = re.search(' ([0-9]+)', cabin)\n",
    "    if number_search:\n",
    "        return number_search.group(1)"
   ]
  },
  {
   "cell_type": "code",
   "execution_count": 5,
   "metadata": {
    "collapsed": false
   },
   "outputs": [],
   "source": [
    "sex_map = {\n",
    "        'male': 0,\n",
    "        'female': 1\n",
    "    }\n",
    "\n",
    "embarked_map = {\n",
    "    'S': 0,\n",
    "    'C': 1,\n",
    "    'Q': 2\n",
    "}\n",
    "\n",
    "title_map = {\n",
    "    'Mr': 1,\n",
    "    'Miss': 2,\n",
    "    'Mrs': 3,\n",
    "    'Master': 4,\n",
    "    'Dr': 5,\n",
    "    'Rev': 6,\n",
    "    'Major': 7,\n",
    "    'Col': 7,\n",
    "    'Mlle': 8,\n",
    "    'Mme': 8,\n",
    "    'Don': 9,\n",
    "    'Lady': 10,\n",
    "    'Countess': 10,\n",
    "    'Jonkheer': 10,\n",
    "    'Sir': 9,\n",
    "    'Capt': 7,\n",
    "    'Ms': 2\n",
    "}\n",
    "\n"
   ]
  },
  {
   "cell_type": "code",
   "execution_count": 6,
   "metadata": {
    "collapsed": false
   },
   "outputs": [],
   "source": [
    "def process_dataset(df):\n",
    "    \n",
    "    df['Age'] = df['Age'].fillna(df['Age'].median())\n",
    "    df['Embarked'] = df['Embarked'].fillna('S')\n",
    "    df['Sex'] = df['Sex'].map(sex_map)\n",
    "    df['Embarked'] = df['Embarked'].map(embarked_map)\n",
    "    df['FamilySize'] = df['SibSp'] + df['Parch']\n",
    "    df['NameLength'] = df['Name'].apply(lambda x: len(x))\n",
    "    df['Title'] = df['Name'].apply(get_title).map(title_map)\n",
    "    df['Title'] = df['Title'].fillna(0)\n",
    "    df['Fare'] = df['Fare'].fillna(df['Fare'].median())\n",
    "#     df['Cabin'] = df['Cabin'].fillna('')\n",
    "#     df['CabinDeck'] = df['Cabin'].apply(get_cabin_deck)\n",
    "#     df['CabinNumber'] = df['Cabin'].apply(get_cabin_number)\n",
    "    \n",
    "    return df"
   ]
  },
  {
   "cell_type": "code",
   "execution_count": 7,
   "metadata": {
    "collapsed": false
   },
   "outputs": [
    {
     "data": {
      "text/html": [
       "<div>\n",
       "<table border=\"1\" class=\"dataframe\">\n",
       "  <thead>\n",
       "    <tr style=\"text-align: right;\">\n",
       "      <th></th>\n",
       "      <th>PassengerId</th>\n",
       "      <th>Survived</th>\n",
       "      <th>Pclass</th>\n",
       "      <th>Name</th>\n",
       "      <th>Sex</th>\n",
       "      <th>Age</th>\n",
       "      <th>SibSp</th>\n",
       "      <th>Parch</th>\n",
       "      <th>Ticket</th>\n",
       "      <th>Fare</th>\n",
       "      <th>Cabin</th>\n",
       "      <th>Embarked</th>\n",
       "      <th>FamilySize</th>\n",
       "      <th>NameLength</th>\n",
       "      <th>Title</th>\n",
       "    </tr>\n",
       "  </thead>\n",
       "  <tbody>\n",
       "    <tr>\n",
       "      <th>0</th>\n",
       "      <td>1</td>\n",
       "      <td>0</td>\n",
       "      <td>3</td>\n",
       "      <td>Braund, Mr. Owen Harris</td>\n",
       "      <td>0</td>\n",
       "      <td>22.0</td>\n",
       "      <td>1</td>\n",
       "      <td>0</td>\n",
       "      <td>A/5 21171</td>\n",
       "      <td>7.2500</td>\n",
       "      <td>NaN</td>\n",
       "      <td>0</td>\n",
       "      <td>1</td>\n",
       "      <td>23</td>\n",
       "      <td>1</td>\n",
       "    </tr>\n",
       "    <tr>\n",
       "      <th>1</th>\n",
       "      <td>2</td>\n",
       "      <td>1</td>\n",
       "      <td>1</td>\n",
       "      <td>Cumings, Mrs. John Bradley (Florence Briggs Th...</td>\n",
       "      <td>1</td>\n",
       "      <td>38.0</td>\n",
       "      <td>1</td>\n",
       "      <td>0</td>\n",
       "      <td>PC 17599</td>\n",
       "      <td>71.2833</td>\n",
       "      <td>C85</td>\n",
       "      <td>1</td>\n",
       "      <td>1</td>\n",
       "      <td>51</td>\n",
       "      <td>3</td>\n",
       "    </tr>\n",
       "    <tr>\n",
       "      <th>2</th>\n",
       "      <td>3</td>\n",
       "      <td>1</td>\n",
       "      <td>3</td>\n",
       "      <td>Heikkinen, Miss. Laina</td>\n",
       "      <td>1</td>\n",
       "      <td>26.0</td>\n",
       "      <td>0</td>\n",
       "      <td>0</td>\n",
       "      <td>STON/O2. 3101282</td>\n",
       "      <td>7.9250</td>\n",
       "      <td>NaN</td>\n",
       "      <td>0</td>\n",
       "      <td>0</td>\n",
       "      <td>22</td>\n",
       "      <td>2</td>\n",
       "    </tr>\n",
       "    <tr>\n",
       "      <th>3</th>\n",
       "      <td>4</td>\n",
       "      <td>1</td>\n",
       "      <td>1</td>\n",
       "      <td>Futrelle, Mrs. Jacques Heath (Lily May Peel)</td>\n",
       "      <td>1</td>\n",
       "      <td>35.0</td>\n",
       "      <td>1</td>\n",
       "      <td>0</td>\n",
       "      <td>113803</td>\n",
       "      <td>53.1000</td>\n",
       "      <td>C123</td>\n",
       "      <td>0</td>\n",
       "      <td>1</td>\n",
       "      <td>44</td>\n",
       "      <td>3</td>\n",
       "    </tr>\n",
       "    <tr>\n",
       "      <th>4</th>\n",
       "      <td>5</td>\n",
       "      <td>0</td>\n",
       "      <td>3</td>\n",
       "      <td>Allen, Mr. William Henry</td>\n",
       "      <td>0</td>\n",
       "      <td>35.0</td>\n",
       "      <td>0</td>\n",
       "      <td>0</td>\n",
       "      <td>373450</td>\n",
       "      <td>8.0500</td>\n",
       "      <td>NaN</td>\n",
       "      <td>0</td>\n",
       "      <td>0</td>\n",
       "      <td>24</td>\n",
       "      <td>1</td>\n",
       "    </tr>\n",
       "  </tbody>\n",
       "</table>\n",
       "</div>"
      ],
      "text/plain": [
       "   PassengerId  Survived  Pclass  \\\n",
       "0            1         0       3   \n",
       "1            2         1       1   \n",
       "2            3         1       3   \n",
       "3            4         1       1   \n",
       "4            5         0       3   \n",
       "\n",
       "                                                Name  Sex   Age  SibSp  Parch  \\\n",
       "0                            Braund, Mr. Owen Harris    0  22.0      1      0   \n",
       "1  Cumings, Mrs. John Bradley (Florence Briggs Th...    1  38.0      1      0   \n",
       "2                             Heikkinen, Miss. Laina    1  26.0      0      0   \n",
       "3       Futrelle, Mrs. Jacques Heath (Lily May Peel)    1  35.0      1      0   \n",
       "4                           Allen, Mr. William Henry    0  35.0      0      0   \n",
       "\n",
       "             Ticket     Fare Cabin  Embarked  FamilySize  NameLength  Title  \n",
       "0         A/5 21171   7.2500   NaN         0           1          23      1  \n",
       "1          PC 17599  71.2833   C85         1           1          51      3  \n",
       "2  STON/O2. 3101282   7.9250   NaN         0           0          22      2  \n",
       "3            113803  53.1000  C123         0           1          44      3  \n",
       "4            373450   8.0500   NaN         0           0          24      1  "
      ]
     },
     "execution_count": 7,
     "metadata": {},
     "output_type": "execute_result"
    }
   ],
   "source": [
    "titanic = pd.read_csv('data/train.csv')\n",
    "titanic = process_dataset(titanic)\n",
    "\n",
    "titanic.head(5)"
   ]
  },
  {
   "cell_type": "code",
   "execution_count": 8,
   "metadata": {
    "collapsed": false
   },
   "outputs": [
    {
     "data": {
      "text/plain": [
       "array([nan, 'C85', 'C123', 'E46', 'G6', 'C103', 'D56', 'A6', 'C23 C25 C27',\n",
       "       'B78', 'D33', 'B30', 'C52', 'B28', 'C83', 'F33', 'F G73', 'E31',\n",
       "       'A5', 'D10 D12', 'D26', 'C110', 'B58 B60', 'E101', 'F E69', 'D47',\n",
       "       'B86', 'F2', 'C2', 'E33', 'B19', 'A7', 'C49', 'F4', 'A32', 'B4',\n",
       "       'B80', 'A31', 'D36', 'D15', 'C93', 'C78', 'D35', 'C87', 'B77',\n",
       "       'E67', 'B94', 'C125', 'C99', 'C118', 'D7', 'A19', 'B49', 'D',\n",
       "       'C22 C26', 'C106', 'C65', 'E36', 'C54', 'B57 B59 B63 B66', 'C7',\n",
       "       'E34', 'C32', 'B18', 'C124', 'C91', 'E40', 'T', 'C128', 'D37',\n",
       "       'B35', 'E50', 'C82', 'B96 B98', 'E10', 'E44', 'A34', 'C104', 'C111',\n",
       "       'C92', 'E38', 'D21', 'E12', 'E63', 'A14', 'B37', 'C30', 'D20',\n",
       "       'B79', 'E25', 'D46', 'B73', 'C95', 'B38', 'B39', 'B22', 'C86',\n",
       "       'C70', 'A16', 'C101', 'C68', 'A10', 'E68', 'B41', 'A20', 'D19',\n",
       "       'D50', 'D9', 'A23', 'B50', 'A26', 'D48', 'E58', 'C126', 'B71',\n",
       "       'B51 B53 B55', 'D49', 'B5', 'B20', 'F G63', 'C62 C64', 'E24', 'C90',\n",
       "       'C45', 'E8', 'B101', 'D45', 'C46', 'D30', 'E121', 'D11', 'E77',\n",
       "       'F38', 'B3', 'D6', 'B82 B84', 'D17', 'A36', 'B102', 'B69', 'E49',\n",
       "       'C47', 'D28', 'E17', 'A24', 'C50', 'B42', 'C148'], dtype=object)"
      ]
     },
     "execution_count": 8,
     "metadata": {},
     "output_type": "execute_result"
    }
   ],
   "source": [
    "titanic['Cabin'].unique()"
   ]
  },
  {
   "cell_type": "markdown",
   "metadata": {},
   "source": [
    "# Feature Selection"
   ]
  },
  {
   "cell_type": "code",
   "execution_count": 9,
   "metadata": {
    "collapsed": false
   },
   "outputs": [],
   "source": [
    "# Select all columns which contain ints or floats\n",
    "potential_features = titanic.select_dtypes(include=['int','float']).columns.tolist()\n",
    "\n",
    "# Remove target column. Obviously it would perfectly correlate and must be excluded.\n",
    "potential_features.remove('Survived')"
   ]
  },
  {
   "cell_type": "code",
   "execution_count": 10,
   "metadata": {
    "collapsed": false
   },
   "outputs": [
    {
     "data": {
      "image/png": "[encoded data removed]",
      "text/plain": [
       "<matplotlib.figure.Figure at 0x10d5de198>"
      ]
     },
     "metadata": {},
     "output_type": "display_data"
    }
   ],
   "source": [
    "selector = SelectKBest(f_classif, k=5)\n",
    "selector.fit(titanic[potential_features], titanic['Survived'])\n",
    "\n",
    "scores = -np.log10(selector.pvalues_)\n",
    "\n",
    "data = {\n",
    "    'feature': potential_features,\n",
    "    'score': scores\n",
    "}\n",
    "\n",
    "feature_fit = pd.DataFrame(data=data)\n",
    "feature_fit.sort_values('score', inplace=True, ascending=False)\n",
    "\n",
    "sns.barplot(x='feature',y='score',data=feature_fit)\n",
    "plt.xticks(rotation='vertical')\n",
    "plt.show()"
   ]
  },
  {
   "cell_type": "code",
   "execution_count": 11,
   "metadata": {
    "collapsed": false
   },
   "outputs": [
    {
     "data": {
      "text/plain": [
       "['Sex', 'Title', 'Pclass', 'NameLength', 'Fare']"
      ]
     },
     "execution_count": 11,
     "metadata": {},
     "output_type": "execute_result"
    }
   ],
   "source": [
    "# Based on above chart, let's use features that scored above 10\n",
    "min_score = 10\n",
    "predictors = feature_fit[feature_fit['score'] > min_score]['feature'].values.tolist()\n",
    "predictors"
   ]
  },
  {
   "cell_type": "code",
   "execution_count": 12,
   "metadata": {
    "collapsed": false
   },
   "outputs": [],
   "source": [
    "# Full set of predictors\n",
    "# predictors = ['Sex', 'Title', 'Pclass', 'NameLength', 'Fare', 'Age', 'SibSp', 'Parch', 'Embarked', 'FamilySize']"
   ]
  },
  {
   "cell_type": "markdown",
   "metadata": {},
   "source": [
    "# Algorithms"
   ]
  },
  {
   "cell_type": "code",
   "execution_count": 13,
   "metadata": {
    "collapsed": true
   },
   "outputs": [],
   "source": [
    "algorithms = []\n",
    "\n",
    "# Add Random Forest\n",
    "algorithms.append([RandomForestClassifier(n_estimators=150, min_samples_split=8, min_samples_leaf=4), predictors, 3])\n",
    "\n",
    "# Add Logistic Regression\n",
    "algorithms.append([LogisticRegression(), predictors, 1])"
   ]
  },
  {
   "cell_type": "markdown",
   "metadata": {},
   "source": [
    "# Fit Model and Make Predictions"
   ]
  },
  {
   "cell_type": "code",
   "execution_count": 14,
   "metadata": {
    "collapsed": false
   },
   "outputs": [
    {
     "name": "stdout",
     "output_type": "stream",
     "text": [
      "Calculate quadrant metrics. TPR, FPR, etc, etc\n"
     ]
    }
   ],
   "source": [
    "print('Calculate quadrant metrics. TPR, FPR, etc, etc')"
   ]
  },
  {
   "cell_type": "code",
   "execution_count": 15,
   "metadata": {
    "collapsed": false
   },
   "outputs": [
    {
     "name": "stdout",
     "output_type": "stream",
     "text": [
      "Add column and save num predictors run for each algorithm into results. Then work on aggregation to get back the current results and avg_results dataframes\n"
     ]
    }
   ],
   "source": [
    "# def check_performance4(algorithms, train):\n",
    "\n",
    "print('Add column and save num predictors run for each algorithm into results. Then work on aggregation to get back the current results and avg_results dataframes')\n"
   ]
  },
  {
   "cell_type": "code",
   "execution_count": 16,
   "metadata": {
    "collapsed": true
   },
   "outputs": [],
   "source": [
    "def check_performance3(algorithms, train):\n",
    "\n",
    "    kf = KFold(train.shape[0], n_folds=10)\n",
    "    fold_numbers = list(range(1,kf.n_folds+1))\n",
    "\n",
    "    results = pd.DataFrame()\n",
    "    avg_results = pd.DataFrame()\n",
    "\n",
    "    for alg, predictors, weight in algorithms:\n",
    "\n",
    "        alg_name = type(alg).__name__\n",
    "        \n",
    "        for i, predictor in enumerate(predictors):\n",
    "            \n",
    "            features = train[predictors[0:i+1]]\n",
    "            target = train['Survived']\n",
    "            \n",
    "            predictions = cross_val_predict(alg, features, target, cv=kf)\n",
    "            scores = cross_val_score(alg, features, target, cv=kf)\n",
    "            mses = mean_squared_error(y_true=target, y_pred=predictions)\n",
    "            variances = np.var(predictions)\n",
    "\n",
    "            cv_results = pd.DataFrame()\n",
    "            cv_results['algorithm'] = alg_name\n",
    "            cv_results['num_features'] = i+1\n",
    "            cv_results['avg_score'] = np.mean(scores)\n",
    "            cv_results['avg_mse'] = np.mean(mses)\n",
    "            cv_results['avg_variance'] = np.mean(variances)\n",
    "            \n",
    "            print(cv_results)\n",
    "            \n",
    "            avg_results = avg_results.append(cv_results, ignore_index=True)\n",
    "            print(avg_results)\n",
    "        \n",
    "\n",
    "        alg_results = pd.DataFrame()\n",
    "        alg_results['algorithm'] = [alg_name] * kf.n_folds\n",
    "        alg_results['fold'] = fold_numbers\n",
    "        alg_results['score'] = scores\n",
    "        alg_results['mse'] = mses\n",
    "        alg_results['variance'] = variances\n",
    "\n",
    "        results = results.append(alg_results, ignore_index=True)\n",
    "    \n",
    "    print(results)\n",
    "    print(avg_results)\n",
    "    plot_scores(results)\n",
    "    plot_metrics(avg_results)\n",
    "    \n",
    "    return results"
   ]
  },
  {
   "cell_type": "code",
   "execution_count": 17,
   "metadata": {
    "collapsed": true
   },
   "outputs": [],
   "source": [
    "# Store all metrics in results and aggregate when needed?"
   ]
  },
  {
   "cell_type": "code",
   "execution_count": 18,
   "metadata": {
    "collapsed": false
   },
   "outputs": [],
   "source": [
    "def plot_scores(df):\n",
    "    bins = np.linspace(.5,1,11)\n",
    "\n",
    "    g = sns.FacetGrid(df, col='algorithm', size=6, aspect=1)\n",
    "    g.map(sns.distplot,'score', kde=False, bins=bins)\n",
    "    plt.xticks(bins)\n",
    "    plt.xlim((np.min(bins), np.max(bins)))\n",
    "    plt.show()"
   ]
  },
  {
   "cell_type": "code",
   "execution_count": 19,
   "metadata": {
    "collapsed": true
   },
   "outputs": [],
   "source": [
    "def plot_metrics(df):\n",
    "    pointfive_one = np.linspace(.5, 1, 11)\n",
    "    zero_pointfive = np.linspace(0, .5, 11)\n",
    "\n",
    "    g = sns.FacetGrid(df, col='algorithm', size=6, aspect=1)\n",
    "    g.map(sns.regplot,'num_features','avg_score', fit_reg=True)\n",
    "    plt.yticks(pointfive_one)\n",
    "    plt.ylim((np.min(pointfive_one), np.max(pointfive_one)))\n",
    "    \n",
    "    g = sns.FacetGrid(df, col='algorithm', size=6, aspect=1)\n",
    "    g.map(sns.regplot,'num_features','avg_mse', color='red', label='Average MSE', fit_reg=True, ci=False)\n",
    "    g.map(sns.regplot,'num_features','avg_variance', color='blue', label='Average Variance', fit_reg=True, ci=False).add_legend()\n",
    "    plt.yticks(zero_pointfive)\n",
    "    plt.ylim((np.min(zero_pointfive), np.max(zero_pointfive)))\n",
    "    \n",
    "    plt.show()\n",
    "    \n",
    "    # Combine plot defs?"
   ]
  },
  {
   "cell_type": "code",
   "execution_count": 20,
   "metadata": {
    "collapsed": false
   },
   "outputs": [
    {
     "name": "stdout",
     "output_type": "stream",
     "text": [
      "Empty DataFrame\n",
      "Columns: [algorithm, num_features, avg_score, avg_mse, avg_variance]\n",
      "Index: []\n",
      "Empty DataFrame\n",
      "Columns: [algorithm, num_features, avg_score, avg_mse, avg_variance]\n",
      "Index: []\n",
      "Empty DataFrame\n",
      "Columns: [algorithm, num_features, avg_score, avg_mse, avg_variance]\n",
      "Index: []\n",
      "Empty DataFrame\n",
      "Columns: [algorithm, num_features, avg_score, avg_mse, avg_variance]\n",
      "Index: []\n",
      "Empty DataFrame\n",
      "Columns: [algorithm, num_features, avg_score, avg_mse, avg_variance]\n",
      "Index: []\n",
      "Empty DataFrame\n",
      "Columns: [algorithm, num_features, avg_score, avg_mse, avg_variance]\n",
      "Index: []\n",
      "Empty DataFrame\n",
      "Columns: [algorithm, num_features, avg_score, avg_mse, avg_variance]\n",
      "Index: []\n",
      "Empty DataFrame\n",
      "Columns: [algorithm, num_features, avg_score, avg_mse, avg_variance]\n",
      "Index: []\n",
      "Empty DataFrame\n",
      "Columns: [algorithm, num_features, avg_score, avg_mse, avg_variance]\n",
      "Index: []\n",
      "Empty DataFrame\n",
      "Columns: [algorithm, num_features, avg_score, avg_mse, avg_variance]\n",
      "Index: []\n",
      "Empty DataFrame\n",
      "Columns: [algorithm, num_features, avg_score, avg_mse, avg_variance]\n",
      "Index: []\n",
      "Empty DataFrame\n",
      "Columns: [algorithm, num_features, avg_score, avg_mse, avg_variance]\n",
      "Index: []\n",
      "Empty DataFrame\n",
      "Columns: [algorithm, num_features, avg_score, avg_mse, avg_variance]\n",
      "Index: []\n",
      "Empty DataFrame\n",
      "Columns: [algorithm, num_features, avg_score, avg_mse, avg_variance]\n",
      "Index: []\n",
      "Empty DataFrame\n",
      "Columns: [algorithm, num_features, avg_score, avg_mse, avg_variance]\n",
      "Index: []\n",
      "Empty DataFrame\n",
      "Columns: [algorithm, num_features, avg_score, avg_mse, avg_variance]\n",
      "Index: []\n",
      "Empty DataFrame\n",
      "Columns: [algorithm, num_features, avg_score, avg_mse, avg_variance]\n",
      "Index: []\n",
      "Empty DataFrame\n",
      "Columns: [algorithm, num_features, avg_score, avg_mse, avg_variance]\n",
      "Index: []\n",
      "Empty DataFrame\n",
      "Columns: [algorithm, num_features, avg_score, avg_mse, avg_variance]\n",
      "Index: []\n",
      "Empty DataFrame\n",
      "Columns: [algorithm, num_features, avg_score, avg_mse, avg_variance]\n",
      "Index: []\n",
      "                 algorithm  fold     score       mse  variance\n",
      "0   RandomForestClassifier     1  0.777778  0.185185  0.224422\n",
      "1   RandomForestClassifier     2  0.831461  0.185185  0.224422\n",
      "2   RandomForestClassifier     3  0.752809  0.185185  0.224422\n",
      "3   RandomForestClassifier     4  0.842697  0.185185  0.224422\n",
      "4   RandomForestClassifier     5  0.820225  0.185185  0.224422\n",
      "5   RandomForestClassifier     6  0.820225  0.185185  0.224422\n",
      "6   RandomForestClassifier     7  0.808989  0.185185  0.224422\n",
      "7   RandomForestClassifier     8  0.808989  0.185185  0.224422\n",
      "8   RandomForestClassifier     9  0.865169  0.185185  0.224422\n",
      "9   RandomForestClassifier    10  0.842697  0.185185  0.224422\n",
      "10      LogisticRegression     1  0.788889  0.214366  0.233486\n",
      "11      LogisticRegression     2  0.808989  0.214366  0.233486\n",
      "12      LogisticRegression     3  0.741573  0.214366  0.233486\n",
      "13      LogisticRegression     4  0.853933  0.214366  0.233486\n",
      "14      LogisticRegression     5  0.775281  0.214366  0.233486\n",
      "15      LogisticRegression     6  0.808989  0.214366  0.233486\n",
      "16      LogisticRegression     7  0.741573  0.214366  0.233486\n",
      "17      LogisticRegression     8  0.752809  0.214366  0.233486\n",
      "18      LogisticRegression     9  0.820225  0.214366  0.233486\n",
      "19      LogisticRegression    10  0.764045  0.214366  0.233486\n",
      "Empty DataFrame\n",
      "Columns: [algorithm, num_features, avg_score, avg_mse, avg_variance]\n",
      "Index: []\n"
     ]
    },
    {
     "data": {
      "image/png": "[encoded data removed]",
      "text/plain": [
       "<matplotlib.figure.Figure at 0x10d713dd8>"
      ]
     },
     "metadata": {},
     "output_type": "display_data"
    },
    {
     "ename": "IndexError",
     "evalue": "index out of range",
     "output_type": "error",
     "traceback": [
      "\u001b[0;31m---------------------------------------------------------------------------\u001b[0m",
      "\u001b[0;31mIndexError\u001b[0m                                Traceback (most recent call last)",
      "\u001b[0;32m<ipython-input-20-f5d3bb22bbfa>\u001b[0m in \u001b[0;36m<module>\u001b[0;34m()\u001b[0m\n\u001b[0;32m----> 1\u001b[0;31m \u001b[0mresults\u001b[0m \u001b[0;34m=\u001b[0m \u001b[0mcheck_performance3\u001b[0m\u001b[0;34m(\u001b[0m\u001b[0malgorithms\u001b[0m\u001b[0;34m,\u001b[0m \u001b[0mtitanic\u001b[0m\u001b[0;34m)\u001b[0m\u001b[0;34m\u001b[0m\u001b[0m\n\u001b[0m",
      "\u001b[0;32m<ipython-input-16-72a9e223aa42>\u001b[0m in \u001b[0;36mcheck_performance3\u001b[0;34m(algorithms, train)\u001b[0m\n\u001b[1;32m     46\u001b[0m     \u001b[0mprint\u001b[0m\u001b[0;34m(\u001b[0m\u001b[0mavg_results\u001b[0m\u001b[0;34m)\u001b[0m\u001b[0;34m\u001b[0m\u001b[0m\n\u001b[1;32m     47\u001b[0m     \u001b[0mplot_scores\u001b[0m\u001b[0;34m(\u001b[0m\u001b[0mresults\u001b[0m\u001b[0;34m)\u001b[0m\u001b[0;34m\u001b[0m\u001b[0m\n\u001b[0;32m---> 48\u001b[0;31m     \u001b[0mplot_metrics\u001b[0m\u001b[0;34m(\u001b[0m\u001b[0mavg_results\u001b[0m\u001b[0;34m)\u001b[0m\u001b[0;34m\u001b[0m\u001b[0m\n\u001b[0m\u001b[1;32m     49\u001b[0m \u001b[0;34m\u001b[0m\u001b[0m\n\u001b[1;32m     50\u001b[0m     \u001b[0;32mreturn\u001b[0m \u001b[0mresults\u001b[0m\u001b[0;34m\u001b[0m\u001b[0m\n",
      "\u001b[0;32m<ipython-input-19-b475dc74d185>\u001b[0m in \u001b[0;36mplot_metrics\u001b[0;34m(df)\u001b[0m\n\u001b[1;32m      3\u001b[0m     \u001b[0mzero_pointfive\u001b[0m \u001b[0;34m=\u001b[0m \u001b[0mnp\u001b[0m\u001b[0;34m.\u001b[0m\u001b[0mlinspace\u001b[0m\u001b[0;34m(\u001b[0m\u001b[0;36m0\u001b[0m\u001b[0;34m,\u001b[0m \u001b[0;36m.5\u001b[0m\u001b[0;34m,\u001b[0m \u001b[0;36m11\u001b[0m\u001b[0;34m)\u001b[0m\u001b[0;34m\u001b[0m\u001b[0m\n\u001b[1;32m      4\u001b[0m \u001b[0;34m\u001b[0m\u001b[0m\n\u001b[0;32m----> 5\u001b[0;31m     \u001b[0mg\u001b[0m \u001b[0;34m=\u001b[0m \u001b[0msns\u001b[0m\u001b[0;34m.\u001b[0m\u001b[0mFacetGrid\u001b[0m\u001b[0;34m(\u001b[0m\u001b[0mdf\u001b[0m\u001b[0;34m,\u001b[0m \u001b[0mcol\u001b[0m\u001b[0;34m=\u001b[0m\u001b[0;34m'algorithm'\u001b[0m\u001b[0;34m,\u001b[0m \u001b[0msize\u001b[0m\u001b[0;34m=\u001b[0m\u001b[0;36m6\u001b[0m\u001b[0;34m,\u001b[0m \u001b[0maspect\u001b[0m\u001b[0;34m=\u001b[0m\u001b[0;36m1\u001b[0m\u001b[0;34m)\u001b[0m\u001b[0;34m\u001b[0m\u001b[0m\n\u001b[0m\u001b[1;32m      6\u001b[0m     \u001b[0mg\u001b[0m\u001b[0;34m.\u001b[0m\u001b[0mmap\u001b[0m\u001b[0;34m(\u001b[0m\u001b[0msns\u001b[0m\u001b[0;34m.\u001b[0m\u001b[0mregplot\u001b[0m\u001b[0;34m,\u001b[0m\u001b[0;34m'num_features'\u001b[0m\u001b[0;34m,\u001b[0m\u001b[0;34m'avg_score'\u001b[0m\u001b[0;34m,\u001b[0m \u001b[0mfit_reg\u001b[0m\u001b[0;34m=\u001b[0m\u001b[0;32mTrue\u001b[0m\u001b[0;34m)\u001b[0m\u001b[0;34m\u001b[0m\u001b[0m\n\u001b[1;32m      7\u001b[0m     \u001b[0mplt\u001b[0m\u001b[0;34m.\u001b[0m\u001b[0myticks\u001b[0m\u001b[0;34m(\u001b[0m\u001b[0mpointfive_one\u001b[0m\u001b[0;34m)\u001b[0m\u001b[0;34m\u001b[0m\u001b[0m\n",
      "\u001b[0;32m/Users/Austin/anaconda/envs/titanic/lib/python3.5/site-packages/seaborn/axisgrid.py\u001b[0m in \u001b[0;36m__init__\u001b[0;34m(self, data, row, col, hue, col_wrap, sharex, sharey, size, aspect, palette, row_order, col_order, hue_order, hue_kws, dropna, legend_out, despine, margin_titles, xlim, ylim, subplot_kws, gridspec_kws)\u001b[0m\n\u001b[1;32m    305\u001b[0m                     \u001b[0mwarnings\u001b[0m\u001b[0;34m.\u001b[0m\u001b[0mwarn\u001b[0m\u001b[0;34m(\u001b[0m\u001b[0mmsg\u001b[0m\u001b[0;34m.\u001b[0m\u001b[0mformat\u001b[0m\u001b[0;34m(\u001b[0m\u001b[0mMPL_GRIDSPEC_VERSION\u001b[0m\u001b[0;34m)\u001b[0m\u001b[0;34m)\u001b[0m\u001b[0;34m\u001b[0m\u001b[0m\n\u001b[1;32m    306\u001b[0m \u001b[0;34m\u001b[0m\u001b[0m\n\u001b[0;32m--> 307\u001b[0;31m             \u001b[0mfig\u001b[0m\u001b[0;34m,\u001b[0m \u001b[0maxes\u001b[0m \u001b[0;34m=\u001b[0m \u001b[0mplt\u001b[0m\u001b[0;34m.\u001b[0m\u001b[0msubplots\u001b[0m\u001b[0;34m(\u001b[0m\u001b[0mnrow\u001b[0m\u001b[0;34m,\u001b[0m \u001b[0mncol\u001b[0m\u001b[0;34m,\u001b[0m \u001b[0;34m**\u001b[0m\u001b[0mkwargs\u001b[0m\u001b[0;34m)\u001b[0m\u001b[0;34m\u001b[0m\u001b[0m\n\u001b[0m\u001b[1;32m    308\u001b[0m             \u001b[0mself\u001b[0m\u001b[0;34m.\u001b[0m\u001b[0maxes\u001b[0m \u001b[0;34m=\u001b[0m \u001b[0maxes\u001b[0m\u001b[0;34m\u001b[0m\u001b[0m\n\u001b[1;32m    309\u001b[0m \u001b[0;34m\u001b[0m\u001b[0m\n",
      "\u001b[0;32m/Users/Austin/anaconda/envs/titanic/lib/python3.5/site-packages/matplotlib/pyplot.py\u001b[0m in \u001b[0;36msubplots\u001b[0;34m(nrows, ncols, sharex, sharey, squeeze, subplot_kw, gridspec_kw, **fig_kw)\u001b[0m\n\u001b[1;32m   1184\u001b[0m \u001b[0;34m\u001b[0m\u001b[0m\n\u001b[1;32m   1185\u001b[0m     \u001b[0;31m# Create first subplot separately, so we can share it if requested\u001b[0m\u001b[0;34m\u001b[0m\u001b[0;34m\u001b[0m\u001b[0m\n\u001b[0;32m-> 1186\u001b[0;31m     \u001b[0max0\u001b[0m \u001b[0;34m=\u001b[0m \u001b[0mfig\u001b[0m\u001b[0;34m.\u001b[0m\u001b[0madd_subplot\u001b[0m\u001b[0;34m(\u001b[0m\u001b[0mgs\u001b[0m\u001b[0;34m[\u001b[0m\u001b[0;36m0\u001b[0m\u001b[0;34m,\u001b[0m \u001b[0;36m0\u001b[0m\u001b[0;34m]\u001b[0m\u001b[0;34m,\u001b[0m \u001b[0;34m**\u001b[0m\u001b[0msubplot_kw\u001b[0m\u001b[0;34m)\u001b[0m\u001b[0;34m\u001b[0m\u001b[0m\n\u001b[0m\u001b[1;32m   1187\u001b[0m     \u001b[0maxarr\u001b[0m\u001b[0;34m[\u001b[0m\u001b[0;36m0\u001b[0m\u001b[0;34m]\u001b[0m \u001b[0;34m=\u001b[0m \u001b[0max0\u001b[0m\u001b[0;34m\u001b[0m\u001b[0m\n\u001b[1;32m   1188\u001b[0m \u001b[0;34m\u001b[0m\u001b[0m\n",
      "\u001b[0;32m/Users/Austin/anaconda/envs/titanic/lib/python3.5/site-packages/matplotlib/gridspec.py\u001b[0m in \u001b[0;36m__getitem__\u001b[0;34m(self, key)\u001b[0m\n\u001b[1;32m    162\u001b[0m                     \u001b[0mk2\u001b[0m \u001b[0;34m+=\u001b[0m \u001b[0mncols\u001b[0m\u001b[0;34m\u001b[0m\u001b[0m\n\u001b[1;32m    163\u001b[0m                 \u001b[0;32mif\u001b[0m \u001b[0mk2\u001b[0m \u001b[0;34m>=\u001b[0m \u001b[0mncols\u001b[0m \u001b[0;32mor\u001b[0m \u001b[0mk2\u001b[0m \u001b[0;34m<\u001b[0m \u001b[0;36m0\u001b[0m \u001b[0;34m:\u001b[0m\u001b[0;34m\u001b[0m\u001b[0m\n\u001b[0;32m--> 164\u001b[0;31m                     \u001b[0;32mraise\u001b[0m \u001b[0mIndexError\u001b[0m\u001b[0;34m(\u001b[0m\u001b[0;34m\"index out of range\"\u001b[0m\u001b[0;34m)\u001b[0m\u001b[0;34m\u001b[0m\u001b[0m\n\u001b[0m\u001b[1;32m    165\u001b[0m                 \u001b[0mcol1\u001b[0m\u001b[0;34m,\u001b[0m \u001b[0mcol2\u001b[0m \u001b[0;34m=\u001b[0m \u001b[0mk2\u001b[0m\u001b[0;34m,\u001b[0m \u001b[0mk2\u001b[0m\u001b[0;34m+\u001b[0m\u001b[0;36m1\u001b[0m\u001b[0;34m\u001b[0m\u001b[0m\n\u001b[1;32m    166\u001b[0m \u001b[0;34m\u001b[0m\u001b[0m\n",
      "\u001b[0;31mIndexError\u001b[0m: index out of range"
     ]
    },
    {
     "data": {
      "text/plain": [
       "<matplotlib.figure.Figure at 0x10d759400>"
      ]
     },
     "metadata": {},
     "output_type": "display_data"
    }
   ],
   "source": [
    "results = check_performance3(algorithms, titanic)"
   ]
  },
  {
   "cell_type": "code",
   "execution_count": null,
   "metadata": {
    "collapsed": true
   },
   "outputs": [],
   "source": [
    "def check_performance2(algorithms, train):\n",
    "\n",
    "    kf = KFold(train.shape[0], n_folds=10)\n",
    "    fold_numbers = list(range(1,kf.n_folds+1))\n",
    "\n",
    "    results = pd.DataFrame()\n",
    "\n",
    "    for alg, predictors, weight in algorithms:\n",
    "        \n",
    "        features = train[predictors]\n",
    "        target = train['Survived']\n",
    "        \n",
    "        predictions = cross_val_predict(alg, features, target, cv=kf)\n",
    "        scores = cross_val_score(alg, features, target, cv=kf)\n",
    "        \n",
    "        mses = mean_squared_error(y_true=target, y_pred=predictions)\n",
    "        variances = np.var(predictions)\n",
    "        \n",
    "        alg_name = type(alg).__name__\n",
    "\n",
    "        alg_results = pd.DataFrame()\n",
    "        alg_results['algorithm'] = [alg_name] * kf.n_folds\n",
    "        alg_results['fold'] = fold_numbers\n",
    "        alg_results['score'] = scores\n",
    "        alg_results['mse'] = mses\n",
    "        alg_results['variance'] = variances\n",
    "\n",
    "        results = results.append(alg_results, ignore_index=True)\n",
    "        \n",
    "        print('**************************************************')\n",
    "        print(alg_name)\n",
    "        print('Number of Folds: {}'.format(kf.n_folds))\n",
    "        print('Accuracy: {:.2} (+/- {:.2})'.format(np.mean(scores), np.std(scores) * 2))\n",
    "        print('Average MSE: {:.2} (+/- {:.2})'.format(np.mean(mses), np.std(mses) * 2))\n",
    "        print('Average Variance: {:.2} (+/- {:.2})'.format(np.mean(variances), np.std(variances) * 2))\n",
    "        print('**************************************************\\n')\n",
    "        \n",
    "    plot_scores(results)\n",
    "    \n",
    "    return results"
   ]
  },
  {
   "cell_type": "code",
   "execution_count": null,
   "metadata": {
    "collapsed": false
   },
   "outputs": [],
   "source": [
    "results = check_performance2(algorithms, titanic)"
   ]
  },
  {
   "cell_type": "code",
   "execution_count": null,
   "metadata": {
    "collapsed": false
   },
   "outputs": [],
   "source": [
    "def fold_it(alg, predictors, train, kf=None):\n",
    "    \n",
    "    if kf == None:\n",
    "        kf = KFold(train.shape[0], n_folds=3)\n",
    "\n",
    "    scores = []\n",
    "    mses = []\n",
    "    variances = []\n",
    "    \n",
    "    for train_index, test_index in kf:\n",
    "\n",
    "            features_train = train[predictors].iloc[train_index]\n",
    "            target_train = train['Survived'].iloc[train_index]\n",
    "            features_test = train[predictors].iloc[test_index]\n",
    "            target_test = train['Survived'].iloc[test_index]\n",
    "\n",
    "            # Fit model to training set\n",
    "            alg.fit(features_train, target_train)\n",
    "\n",
    "            # Predict on test set\n",
    "            prediction = alg.predict(features_test)\n",
    "\n",
    "            # Collect accuracy metrics\n",
    "            score = alg.score(features_test, target_test)\n",
    "            mse = mean_squared_error(y_true=target_test, y_pred=prediction)\n",
    "            variance = np.var(prediction)\n",
    "\n",
    "            # Append to lists\n",
    "            scores.append(score)\n",
    "            mses.append(mse)\n",
    "            variances.append(variance)\n",
    "    \n",
    "    return [scores, mses, variances]"
   ]
  },
  {
   "cell_type": "code",
   "execution_count": null,
   "metadata": {
    "collapsed": true
   },
   "outputs": [],
   "source": [
    "def check_performance(algorithms, train, kf = None):\n",
    "\n",
    "    kf = KFold(train.shape[0], n_folds=10)\n",
    "    fold_numbers = list(range(1,kf.n_folds+1))\n",
    "\n",
    "    results = pd.DataFrame()\n",
    "\n",
    "    for alg, predictors, weight in algorithms:\n",
    "\n",
    "        if kf:\n",
    "            scores, mses, variances = fold_it(alg, predictors, train, kf=kf)\n",
    "        \n",
    "        alg_name = type(alg).__name__\n",
    "\n",
    "        print('**************************************************')\n",
    "        print(alg_name)\n",
    "        print('Number of Folds: {}'.format(kf.n_folds))\n",
    "        print('Accuracy: {:.2} (+/- {:.2})'.format(np.mean(scores), np.std(scores) * 2))\n",
    "        print('Average MSE: {:.2} (+/- {:.2})'.format(np.mean(mses), np.std(mses) * 2))\n",
    "        print('Average Variance: {:.2} (+/- {:.2})'.format(np.mean(variances), np.std(variances) * 2))\n",
    "        print('**************************************************\\n')\n",
    "\n",
    "        alg_results = pd.DataFrame()\n",
    "        alg_results['algorithm'] = [alg_name] * kf.n_folds\n",
    "        alg_results['fold'] = fold_numbers\n",
    "        alg_results['score'] = scores\n",
    "        alg_results['mse'] = mses\n",
    "        alg_results['variance'] = variances\n",
    "\n",
    "        results = results.append(alg_results, ignore_index=True)\n",
    "        \n",
    "    plot_scores(results)\n",
    "    \n",
    "    return results"
   ]
  },
  {
   "cell_type": "code",
   "execution_count": null,
   "metadata": {
    "collapsed": false
   },
   "outputs": [],
   "source": [
    "results = check_performance(algorithms, titanic)"
   ]
  },
  {
   "cell_type": "code",
   "execution_count": null,
   "metadata": {
    "collapsed": false
   },
   "outputs": [],
   "source": [
    "def fit_train_set(train):\n",
    "    kf = KFold(train.shape[0], n_folds=10)\n",
    "    fold_numbers = list(range(1,kf.n_folds+1))\n",
    "\n",
    "    all_predictions = []\n",
    "    all_probabilities = []\n",
    "    \n",
    "    total_weight = 0\n",
    "    for row in algorithms:\n",
    "        total_weight += row[2]\n",
    "\n",
    "    results = pd.DataFrame()\n",
    "\n",
    "    for alg, predictors, weight in algorithms:\n",
    "        \n",
    "        weight_ratio = weight/total_weight\n",
    "\n",
    "        alg_results = pd.DataFrame()\n",
    "\n",
    "        alg_name = type(alg).__name__\n",
    "        predictions = []\n",
    "        probabilities = []\n",
    "        scores = []\n",
    "        mses = []\n",
    "        variances = []\n",
    "\n",
    "        for train_index, test_index in kf:\n",
    "\n",
    "            features_train = train[predictors].iloc[train_index]\n",
    "            target_train = train['Survived'].iloc[train_index]\n",
    "            features_test = train[predictors].iloc[test_index]\n",
    "            target_test = train['Survived'].iloc[test_index]\n",
    "\n",
    "            # Fit model to training set\n",
    "            alg.fit(features_train, target_train)\n",
    "\n",
    "            # Predict on test set\n",
    "            prediction = alg.predict(features_test)\n",
    "            probability = alg.predict_proba(features_test)\n",
    "\n",
    "            # Collect accuracy metrics\n",
    "            score = alg.score(features_test, target_test)\n",
    "            mse = mean_squared_error(y_true=target_test, y_pred=prediction)\n",
    "            variance = np.var(prediction)\n",
    "\n",
    "            # Append to lists\n",
    "            predictions.append(prediction)\n",
    "            probabilities.append(probability[:,1])\n",
    "            scores.append(score)\n",
    "            mses.append(mse)\n",
    "            variances.append(variance)\n",
    "\n",
    "        print('**************************************************')\n",
    "        print(alg_name)\n",
    "        print('Number of Folds: {}'.format(kf.n_folds))\n",
    "        print('Accuracy: {:.2} (+/- {:.2})'.format(np.mean(scores), np.std(scores) * 2))\n",
    "        print('Average MSE: {:.2} (+/- {:.2})'.format(np.mean(mses), np.std(mses) * 2))\n",
    "        print('Average Variance: {:.2} (+/- {:.2})'.format(np.mean(variances), np.std(variances) * 2))\n",
    "        print('**************************************************\\n')\n",
    "\n",
    "        # Put all predictions and probabilities into one list\n",
    "        all_predictions.append(np.concatenate(predictions, axis=0))\n",
    "        all_probabilities.append(np.concatenate(probabilities, axis=0) * weight_ratio)\n",
    "\n",
    "        alg_results['algorithm'] = [alg_name] * kf.n_folds\n",
    "        alg_results['weight'] = [weight_ratio] * kf.n_folds\n",
    "        alg_results['fold'] = fold_numbers\n",
    "        alg_results['score'] = scores\n",
    "        alg_results['mse'] = mses\n",
    "        alg_results['variance'] = variances\n",
    "\n",
    "        results = results.append(alg_results, ignore_index=True)\n",
    "\n",
    "    weighted_predictions = np.array(all_probabilities).T.sum(axis=1)\n",
    "    weighted_predictions[weighted_predictions > .5] = 1\n",
    "    weighted_predictions[weighted_predictions <= .5] = 0\n",
    "\n",
    "    weighted_predictions = weighted_predictions.astype(int)\n",
    "    \n",
    "    return results"
   ]
  },
  {
   "cell_type": "code",
   "execution_count": null,
   "metadata": {
    "collapsed": true
   },
   "outputs": [],
   "source": [
    "def fit_test_set(train, test):\n",
    "\n",
    "    all_predictions = []    \n",
    "    total_weight = 0\n",
    "\n",
    "    for row in algorithms:\n",
    "        total_weight += row[2]\n",
    "\n",
    "    for alg, predictors, weight in algorithms:\n",
    "        \n",
    "        # Fit model to training set\n",
    "        alg.fit(train[predictors], train['Survived'])\n",
    "\n",
    "        # Predict on test set\n",
    "        predictions = alg.predict_proba(test[predictors])\n",
    "        \n",
    "        weight_ratio = weight/total_weight\n",
    "        all_predictions.append(predictions[:,1] * weight_ratio)\n",
    "    \n",
    "    weighted_predictions = np.array(all_predictions).T.sum(axis=1)\n",
    "    weighted_predictions[weighted_predictions > .5] = 1\n",
    "    weighted_predictions[weighted_predictions <= .5] = 0\n",
    "\n",
    "    weighted_predictions = weighted_predictions.astype(int)\n",
    "    \n",
    "    return weighted_predictions"
   ]
  },
  {
   "cell_type": "code",
   "execution_count": null,
   "metadata": {
    "collapsed": false
   },
   "outputs": [],
   "source": [
    "results = fit_train_set(titanic)\n",
    "plot_scores(results)"
   ]
  },
  {
   "cell_type": "markdown",
   "metadata": {},
   "source": [
    "Possibly use cross_val above to automatically do cross-validation. Problem is there is no cross_val_predict_proba. There is apparently a fix to address this in work which uses cross_val_predict(method='predict_proba'), but it is not in the released version yet."
   ]
  },
  {
   "cell_type": "code",
   "execution_count": null,
   "metadata": {
    "collapsed": true
   },
   "outputs": [],
   "source": [
    "#     cross_predictions = cross_val_predict(alg, titanic[predictors], titanic['Survived'], cv=10)\n",
    "#     cross_score = cross_val_score(alg, titanic[predictors], titanic['Survived'], cv=10)"
   ]
  },
  {
   "cell_type": "markdown",
   "metadata": {},
   "source": [
    "Combine prediction probabilities using weight for each algorithm.\n",
    "\n",
    "If more algorithms, maybe use majority vote?"
   ]
  },
  {
   "cell_type": "markdown",
   "metadata": {},
   "source": [
    "# Check For Overfitting"
   ]
  },
  {
   "cell_type": "markdown",
   "metadata": {},
   "source": [
    "!!!fix to call other functions and use algorithms!!!"
   ]
  },
  {
   "cell_type": "code",
   "execution_count": null,
   "metadata": {
    "collapsed": false
   },
   "outputs": [],
   "source": [
    "avg_mse = []\n",
    "avg_variance = []\n",
    "\n",
    "for index, predictor in enumerate(predictors):\n",
    "    features = titanic[predictors[0:index+1]]\n",
    "    target = titanic['Survived']\n",
    "    \n",
    "    alg = algorithms[0][0]\n",
    "\n",
    "    predictions = cross_val_predict(alg, features, target, cv=5)\n",
    "    \n",
    "    mse = mean_squared_error(y_true=target, y_pred=predictions)\n",
    "    variance = np.var(predictions)\n",
    "    \n",
    "    avg_mse.append(np.mean(mse))\n",
    "    avg_variance.append(np.mean(variance))"
   ]
  },
  {
   "cell_type": "code",
   "execution_count": null,
   "metadata": {
    "collapsed": false
   },
   "outputs": [],
   "source": [
    "plt.scatter(range(0,len(avg_mse)), y=avg_mse, c='r')\n",
    "plt.scatter(range(0,len(avg_variance)), y=avg_variance, c='b')\n",
    "plt.show()"
   ]
  },
  {
   "cell_type": "markdown",
   "metadata": {},
   "source": [
    "# Fit Test Set"
   ]
  },
  {
   "cell_type": "code",
   "execution_count": null,
   "metadata": {
    "collapsed": false
   },
   "outputs": [],
   "source": [
    "titanic_test = pd.read_csv('data/test.csv')\n",
    "titanic_test = process_dataset(titanic_test)\n",
    "\n",
    "predictions = fit_test_set(titanic, titanic_test)"
   ]
  },
  {
   "cell_type": "code",
   "execution_count": null,
   "metadata": {
    "collapsed": false
   },
   "outputs": [],
   "source": [
    "def check_submission_rules(df):\n",
    "    assert df.shape[0] == 418\n",
    "\n",
    "check_submission_rules(predictions)\n",
    "\n",
    "submission = pd.DataFrame({\n",
    "        \"PassengerId\": titanic_test[\"PassengerId\"],\n",
    "        \"Survived\": predictions\n",
    "    })\n",
    "\n",
    "submission.to_csv('submissions/improving_your_submission.csv', index=False)"
   ]
  },
  {
   "cell_type": "code",
   "execution_count": null,
   "metadata": {
    "collapsed": true
   },
   "outputs": [],
   "source": []
  }
 ],
 "metadata": {
  "kernelspec": {
   "display_name": "Python 3",
   "language": "python",
   "name": "python3"
  },
  "language_info": {
   "codemirror_mode": {
    "name": "ipython",
    "version": 3
   },
   "file_extension": ".py",
   "mimetype": "text/x-python",
   "name": "python",
   "nbconvert_exporter": "python",
   "pygments_lexer": "ipython3",
   "version": "3.5.2"
  }
 },
 "nbformat": 4,
 "nbformat_minor": 0
}
